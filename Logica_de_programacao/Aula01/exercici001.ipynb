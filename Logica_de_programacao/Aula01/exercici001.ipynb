{
 "cells": [
  {
   "cell_type": "code",
   "execution_count": 1,
   "metadata": {},
   "outputs": [
    {
     "name": "stdout",
     "output_type": "stream",
     "text": [
      "Informe dados pessoais\n",
      "Vanusa\n"
     ]
    }
   ],
   "source": [
    "print('Informe dados pessoais')\n",
    "nome = 'Vanusa'\n",
    "print(nome)"
   ]
  },
  {
   "cell_type": "code",
   "execution_count": 2,
   "metadata": {},
   "outputs": [
    {
     "name": "stdout",
     "output_type": "stream",
     "text": [
      "Informe dados pessoais\n",
      "Olá Ivan, você tem 25 anos\n"
     ]
    }
   ],
   "source": [
    "print('Informe dados pessoais')\n",
    "nome = 'Ivan'\n",
    "idade = 25\n",
    "print(f'Olá {nome}, você tem {idade} anos')\n",
    "\n"
   ]
  },
  {
   "cell_type": "code",
   "execution_count": 1,
   "metadata": {},
   "outputs": [
    {
     "name": "stdout",
     "output_type": "stream",
     "text": [
      "Você tem 31 anos\n"
     ]
    }
   ],
   "source": [
    "\n",
    "ano_atual = 2024\n",
    "ano_de_nascimento = 1993\n",
    "print(f'Você tem {ano_atual - ano_de_nascimento} anos')"
   ]
  },
  {
   "cell_type": "code",
   "execution_count": 7,
   "metadata": {},
   "outputs": [
    {
     "name": "stdout",
     "output_type": "stream",
     "text": [
      "0\n"
     ]
    }
   ],
   "source": [
    "modulo = 10 % 2\n",
    "print(modulo)"
   ]
  },
  {
   "cell_type": "code",
   "execution_count": 2,
   "metadata": {},
   "outputs": [
    {
     "name": "stdout",
     "output_type": "stream",
     "text": [
      "O preço é: 12.6\n"
     ]
    }
   ],
   "source": [
    "preço = 12.60\n",
    "print('O preço é:', preço)\n"
   ]
  },
  {
   "cell_type": "code",
   "execution_count": 8,
   "metadata": {},
   "outputs": [
    {
     "name": "stdout",
     "output_type": "stream",
     "text": [
      "42.28\n"
     ]
    }
   ],
   "source": [
    "numero = 42.285\n",
    "print(round(numero, 2)) "
   ]
  }
 ],
 "metadata": {
  "kernelspec": {
   "display_name": "Python 3",
   "language": "python",
   "name": "python3"
  },
  "language_info": {
   "codemirror_mode": {
    "name": "ipython",
    "version": 3
   },
   "file_extension": ".py",
   "mimetype": "text/x-python",
   "name": "python",
   "nbconvert_exporter": "python",
   "pygments_lexer": "ipython3",
   "version": "3.12.3"
  }
 },
 "nbformat": 4,
 "nbformat_minor": 2
}
