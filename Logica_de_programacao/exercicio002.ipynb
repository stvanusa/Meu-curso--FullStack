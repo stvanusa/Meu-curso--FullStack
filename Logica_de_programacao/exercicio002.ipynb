{
 "cells": [
  {
   "cell_type": "code",
   "execution_count": 7,
   "metadata": {},
   "outputs": [
    {
     "name": "stdout",
     "output_type": "stream",
     "text": [
      "Vanusa\n"
     ]
    }
   ],
   "source": [
    "#1-Faça um programa que insira nome e depois mostre-o.\n",
    "nome = input('Digite seu nome:')\n",
    "print(nome)"
   ]
  },
  {
   "cell_type": "code",
   "execution_count": 8,
   "metadata": {},
   "outputs": [
    {
     "name": "stdout",
     "output_type": "stream",
     "text": [
      "Vanusa\n",
      "Olá Vanusa, você tem 30 anos\n"
     ]
    }
   ],
   "source": [
    "# 2-Faça um programa que solicite nome e idade\n",
    "nome = input('Digite seu nome:')\n",
    "print(nome)\n",
    "idade = int(input(\"Digite sua idade: \"))\n",
    "print(f'Olá {nome}, você tem {idade} anos')\n"
   ]
  },
  {
   "cell_type": "code",
   "execution_count": 9,
   "metadata": {},
   "outputs": [
    {
     "name": "stdout",
     "output_type": "stream",
     "text": [
      "A soma de a + b é 25\n"
     ]
    }
   ],
   "source": [
    "# 3-Faça uma calculadora de soma\n",
    "#que peça para digitar o primeiro numero e depois o segundo\n",
    "#por fim mostre a soma\n",
    "a = int(input('Digite um numero para a'))\n",
    "b = int(input('Digite um numero para b'))\n",
    "soma = a + b\n",
    "print('A soma de a + b é', soma)\n",
    "\n",
    "\n",
    "\n",
    "\n"
   ]
  },
  {
   "cell_type": "code",
   "execution_count": 10,
   "metadata": {},
   "outputs": [
    {
     "name": "stdout",
     "output_type": "stream",
     "text": [
      "Você tem 31 anos\n"
     ]
    }
   ],
   "source": [
    "# 4- Programa que calcula a idade do usuario usando o ano vigemte e ano de nascimento\n",
    "ano_atual =int(input('Digite o ano vigente'))\n",
    "ano_de_nascimento = int(input('Digite o ano do seu nascimento'))\n",
    "print(f'Você tem {ano_atual - ano_de_nascimento} anos')\n"
   ]
  },
  {
   "cell_type": "code",
   "execution_count": 11,
   "metadata": {},
   "outputs": [
    {
     "name": "stdout",
     "output_type": "stream",
     "text": [
      "Fahrenheit 104.0°F\n"
     ]
    }
   ],
   "source": [
    "# 5- Programa para informar tempreratura em graus Celsius  e depois converta para Fahrenheit\n",
    "celsius = float (input('Informe a temperatura em graus Celsius'))\n",
    "fahrenheit = celsius * 9 / 5 + 32 \n",
    "print(f'Fahrenheit {fahrenheit}°F')"
   ]
  },
  {
   "cell_type": "code",
   "execution_count": null,
   "metadata": {},
   "outputs": [],
   "source": []
  },
  {
   "cell_type": "code",
   "execution_count": null,
   "metadata": {},
   "outputs": [],
   "source": []
  }
 ],
 "metadata": {
  "kernelspec": {
   "display_name": "Python 3",
   "language": "python",
   "name": "python3"
  },
  "language_info": {
   "codemirror_mode": {
    "name": "ipython",
    "version": 3
   },
   "file_extension": ".py",
   "mimetype": "text/x-python",
   "name": "python",
   "nbconvert_exporter": "python",
   "pygments_lexer": "ipython3",
   "version": "3.12.3"
  }
 },
 "nbformat": 4,
 "nbformat_minor": 2
}
